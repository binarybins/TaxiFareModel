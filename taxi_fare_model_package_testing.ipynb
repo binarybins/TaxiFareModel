{
 "cells": [
  {
   "cell_type": "markdown",
   "metadata": {},
   "source": [
    "# Testing the TaxiFareModel package"
   ]
  },
  {
   "cell_type": "markdown",
   "metadata": {},
   "source": [
    "Make sure you have installed your package locally!"
   ]
  },
  {
   "cell_type": "code",
   "execution_count": 1,
   "metadata": {},
   "outputs": [],
   "source": [
    "%load_ext autoreload\n",
    "%autoreload 2"
   ]
  },
  {
   "cell_type": "code",
   "execution_count": 29,
   "metadata": {
    "scrolled": true
   },
   "outputs": [
    {
     "name": "stdout",
     "output_type": "stream",
     "text": [
      "7.851431805172993\n"
     ]
    },
    {
     "data": {
      "text/plain": [
       "7.851431805172993"
      ]
     },
     "execution_count": 29,
     "metadata": {},
     "output_type": "execute_result"
    }
   ],
   "source": [
    "from sklearn.model_selection import train_test_split\n",
    "from TaxiFareModel.data import get_data, clean_data\n",
    "from TaxiFareModel.trainer import Trainer\n",
    "\n",
    "N = 10_000\n",
    "df = get_data(nrows=N)\n",
    "df = clean_data(df)\n",
    "y = df[\"fare_amount\"]\n",
    "X = df.drop(\"fare_amount\", axis=1)\n",
    "\n",
    "X_train, X_test, y_train, y_test = train_test_split(X, y, test_size=0.3)\n",
    "trainer = Trainer(X_train, y_train)\n",
    "trainer.run()\n",
    "trainer.evaluate(X_test, y_test)"
   ]
  },
  {
   "cell_type": "code",
   "execution_count": 30,
   "metadata": {},
   "outputs": [],
   "source": [
    "trainer = Trainer(X_train, y_train)"
   ]
  },
  {
   "cell_type": "code",
   "execution_count": 18,
   "metadata": {},
   "outputs": [
    {
     "data": {
      "text/plain": [
       "'[SG] [SG] [BM] [test_experiment] [220813v02]'"
      ]
     },
     "execution_count": 18,
     "metadata": {},
     "output_type": "execute_result"
    }
   ],
   "source": [
    "trainer.experiment_name"
   ]
  },
  {
   "cell_type": "code",
   "execution_count": 14,
   "metadata": {},
   "outputs": [],
   "source": [
    "import mlflow\n",
    "from  mlflow.tracking import MlflowClient\n",
    "\n",
    "mlflow.set_tracking_uri(\"https://mlflow.lewagon.ai/\")\n",
    "\n",
    "EXPERIMENT_NAME = \"[SG] [SG] [BM] linear_test + 220813v01\"\n",
    "\n",
    "client = MlflowClient()\n",
    "experiment_id = client.create_experiment(EXPERIMENT_NAME)\n",
    "\n",
    "run = client.create_run(experiment_id)\n",
    "client.log_metric(run.info.run_id, \"rmse\", 4.5)\n",
    "client.log_param(run.info.run_id, \"model\", \"linear\")"
   ]
  },
  {
   "cell_type": "code",
   "execution_count": 31,
   "metadata": {},
   "outputs": [
    {
     "data": {
      "text/plain": [
       "<Run: data=<RunData: metrics={}, params={}, tags={}>, info=<RunInfo: artifact_uri='mlflow-artifacts:/5921/a848ad17fe9547a3bbf2a8efa95d21af/artifacts', end_time=None, experiment_id='5921', lifecycle_stage='active', run_id='a848ad17fe9547a3bbf2a8efa95d21af', run_uuid='a848ad17fe9547a3bbf2a8efa95d21af', start_time=1660376034453, status='RUNNING', user_id='unknown'>>"
      ]
     },
     "execution_count": 31,
     "metadata": {},
     "output_type": "execute_result"
    }
   ],
   "source": [
    "trainer.mlflow_run\n",
    "# mlflow_run()"
   ]
  }
 ],
 "metadata": {
  "challengify": {
   "keep_output": true
  },
  "kernelspec": {
   "display_name": "Python 3 (ipykernel)",
   "language": "python",
   "name": "python3"
  },
  "language_info": {
   "codemirror_mode": {
    "name": "ipython",
    "version": 3
   },
   "file_extension": ".py",
   "mimetype": "text/x-python",
   "name": "python",
   "nbconvert_exporter": "python",
   "pygments_lexer": "ipython3",
   "version": "3.8.12"
  },
  "toc": {
   "base_numbering": 1,
   "nav_menu": {},
   "number_sections": true,
   "sideBar": true,
   "skip_h1_title": false,
   "title_cell": "Table of Contents",
   "title_sidebar": "Contents",
   "toc_cell": false,
   "toc_position": {},
   "toc_section_display": true,
   "toc_window_display": false
  }
 },
 "nbformat": 4,
 "nbformat_minor": 4
}
